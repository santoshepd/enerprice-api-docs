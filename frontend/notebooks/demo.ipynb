{
 "cells": [
  {
   "cell_type": "code",
   "execution_count": 1,
   "id": "0b8593c8",
   "metadata": {},
   "outputs": [],
   "source": [
    "import requests\n",
    "import pandas as pd\n"
   ]
  },
  {
   "cell_type": "code",
   "execution_count": 2,
   "id": "60003303",
   "metadata": {},
   "outputs": [],
   "source": [
    "base_url = \"https://api.enerpricedata.com\"   # Replace with your FastAPI base URL\n",
    "api_key = \"sk-dUtFyE9MpUJOLuRWeBxRkvQfA__96Kb548fvptJg9-4\"           # Replace with your actual API key\n"
   ]
  },
  {
   "cell_type": "code",
   "execution_count": 4,
   "id": "83e7c122",
   "metadata": {},
   "outputs": [],
   "source": [
    "headers = {\n",
    "    \"X-API-Key\": api_key  # FastAPI expects the key in this custom header\n",
    "}\n"
   ]
  },
  {
   "cell_type": "code",
   "execution_count": 5,
   "id": "fcae40a2",
   "metadata": {},
   "outputs": [
    {
     "name": "stdout",
     "output_type": "stream",
     "text": [
      "/graph/api/v1/energy-futures/graph-data\n",
      "/graph/api/v1/energy-futures/load-zones\n",
      "/graph/api/v1/rec/graph-data\n",
      "/graph/api/v1/rec/states\n",
      "/graph/api/v1/utility-price/graph-data\n",
      "/graph/api/v1/utility-price/states\n",
      "/graph/api/v1/utility-price/utilities\n",
      "/graph/api/v1/utility-price/rate-classes\n",
      "/graph/api/v1/ancillary-uplift/graph-data\n",
      "/graph/api/v1/ancillary-uplift/load-zones\n",
      "/graph/api/v1/ancillary-uplift/capacity-zones\n",
      "/users\n",
      "/users/{user_id}\n",
      "/login\n",
      "/verify-otp\n",
      "/me\n",
      "/logout\n",
      "/forgot-password/request\n",
      "/forgot-password/verify\n",
      "/change-password\n",
      "/datasets/upload/utility-price\n",
      "/datasets/download/utility-price\n",
      "/datasets/download/utility-price/summary/csv\n",
      "/datasets/download/utility-price/details/csv\n",
      "/datasets/download/utility-price/csv\n",
      "/datasets/download/utility-price/json\n",
      "/datasets\n",
      "/datasets/{dataset_id}\n",
      "/datasets/{dataset_id}/utility-price/summary\n",
      "/datasets/{dataset_id}/utility-price/details\n",
      "/datasets/{dataset_id}/utility-price/details/{detail_id}/ptc-values\n",
      "/datasets/upload/energy-futures\n",
      "/datasets/download/energy-futures\n",
      "/datasets/{dataset_id}/energy-futures/stats\n",
      "/datasets/download/energy-futures/csv\n",
      "/datasets/download/energy-futures/json\n",
      "/datasets/upload/rec-rps\n",
      "/datasets/download/rec-rps\n",
      "/datasets/{dataset_id}/rec-rps/stats\n",
      "/datasets/download/rec-rps/csv\n",
      "/datasets/download/rec-rps/json\n",
      "/datasets/upload/ancillary-uplift\n",
      "/datasets/download/ancillary-uplift\n",
      "/datasets/{dataset_id}/ancillary-uplift/stats\n",
      "/datasets/download/ancillary-uplift/csv\n",
      "/datasets/download/ancillary-uplift/json\n",
      "/permissions/assign\n",
      "/permissions/update/{user_id}/{permission_name}\n",
      "/permissions/remove/{user_id}/{permission_name}\n",
      "/permissions/user/{user_id}\n",
      "/permissions/bulk-assign\n",
      "/permissions/available\n",
      "/permissions/check/{user_id}/{permission_name}\n",
      "/api-keys\n",
      "/api-keys/{api_key_id}\n",
      "/api-keys/{api_key_id}/regenerate\n",
      "/health-check\n"
     ]
    }
   ],
   "source": [
    "response = requests.get(f\"{base_url}/openapi.json\")\n",
    "for path in response.json().get(\"paths\", {}):\n",
    "    print(path)\n"
   ]
  },
  {
   "cell_type": "markdown",
   "id": "b6ea8728",
   "metadata": {},
   "source": [
    "Default:"
   ]
  },
  {
   "cell_type": "code",
   "execution_count": 18,
   "id": "4baf2990",
   "metadata": {},
   "outputs": [
    {
     "name": "stdout",
     "output_type": "stream",
     "text": [
      "User Info: {'id': 'f78fdfbf-3b5a-4e9f-8b8e-b2595da404ca', 'name': 'santosh', 'email': 'santosh@azr-holdings.com', 'role': 'admin', 'is_active': True, 'created_at': '2025-08-10T06:41:16.748649', 'updated_at': '2025-08-24T20:18:49.083073', 'api_key_id': 'b426811d-59c0-47e6-98f6-a1b2b82fdfff'}\n"
     ]
    }
   ],
   "source": [
    "import requests\n",
    "\n",
    "base_url = \"https://api.enerpricedata.com\"\n",
    "endpoint = \"/me\"\n",
    "\n",
    "response = requests.get(f\"{base_url}{endpoint}\", headers=headers)\n",
    "\n",
    "if response.status_code == 200:\n",
    "    print(\"User Info:\", response.json())\n",
    "else:\n",
    "    print(\"Error:\", response.status_code, response.text)\n"
   ]
  },
  {
   "cell_type": "markdown",
   "id": "41dee91a",
   "metadata": {},
   "source": [
    "Energy Futures:"
   ]
  },
  {
   "cell_type": "code",
   "execution_count": 5,
   "id": "deb7d1a5",
   "metadata": {},
   "outputs": [
    {
     "name": "stdout",
     "output_type": "stream",
     "text": [
      "File downloaded successfully and saved as 'EPD_EnergyFutures_ERCOT_2025-09-02.xlsx'\n",
      "Energy futures data downloaded successfully!\n"
     ]
    }
   ],
   "source": [
    "import requests\n",
    "\n",
    "# Download Energy Futures Data\n",
    "url = \"https://api.enerpricedata.com/datasets/download/energy-futures\"\n",
    "headers = {\n",
    "    \"X-API-Key\": api_key\n",
    "}\n",
    "params = {\n",
    "    \"start_operating_date\": \"2025-09-02\",\n",
    "    \"control_area\": \"ERCOT\",\n",
    "    \"block_types\": \"7x8,2x16\"\n",
    "}\n",
    "\n",
    "response = requests.get(url, headers=headers, params=params)\n",
    "\n",
    "control_area = params[\"control_area\"]\n",
    "end_op_date = params.get(\"end_operating_date\", params[\"start_operating_date\"])\n",
    "filename = f\"EPD_EnergyFutures_{control_area}_{end_op_date}.xlsx\"\n",
    "\n",
    "\n",
    "if response.status_code == 200:\n",
    "    with open(filename, \"wb\") as f:\n",
    "        f.write(response.content)\n",
    "    print(f\"File downloaded successfully and saved as '{filename}'\")\n",
    "else:\n",
    "    # If an error occurs, print status and response text\n",
    "    print(f\"Error {response.status_code}: {response.text}\")\n",
    "    \n",
    "print(\"Energy futures data downloaded successfully!\")"
   ]
  },
  {
   "cell_type": "markdown",
   "id": "258f6af3",
   "metadata": {},
   "source": [
    "EXCEL"
   ]
  },
  {
   "cell_type": "code",
   "execution_count": null,
   "id": "cc3dd77e",
   "metadata": {},
   "outputs": [
    {
     "name": "stdout",
     "output_type": "stream",
     "text": [
      "✅ File downloaded successfully and saved as 'EPD_EnergyFutures_ERCOT_2025-08-25.xlsx'\n"
     ]
    }
   ],
   "source": [
    "endpoint = \"/datasets/download/energy-futures\"\n",
    "\n",
    "params = {\n",
    "    \"start_operating_date\": \"2025-08-25\",        # Required\n",
    "    \"end_operating_date\": \"2025-08-25\",          # Optional, for date range\n",
    "    \"control_area\": \"ERCOT\",                     # ERCOT, PJM, ISONE, etc.\n",
    "    \"block_types\": \"\",                           # Optional: e.g., 7x8,2x16,5x16, etc. e.g., \"7x8\",\"2x16\",\"5x16\" -- By Default ALL \n",
    "    \"start_date\": \"2025-08-01\",                  # Optional: filter start\n",
    "    \"end_date\": \"2030-09-01\"                     # Optional: filter end\n",
    "}\n",
    "\n",
    "response = requests.get(f\"{base_url}{endpoint}\", headers=headers, params=params)\n",
    "\n",
    "control_area = params[\"control_area\"]\n",
    "end_op_date = params.get(\"end_operating_date\", params[\"start_operating_date\"])\n",
    "filename = f\"EPD_EnergyFutures_{control_area}_{end_op_date}.xlsx\"\n",
    "\n",
    "\n",
    "if response.status_code == 200:\n",
    "    with open(filename, \"wb\") as f:\n",
    "        f.write(response.content)\n",
    "    print(f\"File downloaded successfully and saved as '{filename}'\")\n",
    "else:\n",
    "    # If an error occurs, print status and response text\n",
    "    print(f\"Error {response.status_code}: {response.text}\")"
   ]
  },
  {
   "cell_type": "markdown",
   "id": "fa3236c1",
   "metadata": {},
   "source": [
    "CSV:"
   ]
  },
  {
   "cell_type": "code",
   "execution_count": null,
   "id": "2fab5bb9",
   "metadata": {},
   "outputs": [
    {
     "name": "stdout",
     "output_type": "stream",
     "text": [
      "File downloaded successfully and saved as 'EPD_EnergyFutures_ERCOT_2025-08-25.csv'\n"
     ]
    }
   ],
   "source": [
    "endpoint = \"/datasets/download/energy-futures/csv\"\n",
    "\n",
    "params = {\n",
    "    \"start_operating_date\": \"2025-08-25\",        # Required\n",
    "    \"end_operating_date\": \"2025-08-25\",          # Optional, for date range\n",
    "    \"control_area\": \"ERCOT\",                     # ERCOT, PJM, ISONE, etc.\n",
    "    \"block_types\": \"\",                           # Optional: e.g., 7x8,2x16,5x16, etc. e.g., \"7x8\",\"2x16\",\"5x16\" -- By Default ALL \n",
    "    \"start_date\": \"2025-08-01\",                  # Optional: filter start\n",
    "    \"end_date\": \"2030-09-01\"                     # Optional: filter end\n",
    "}\n",
    "\n",
    "response = requests.get(f\"{base_url}{endpoint}\", headers=headers, params=params)\n",
    "\n",
    "control_area = params[\"control_area\"]\n",
    "end_op_date = params.get(\"end_operating_date\", params[\"start_operating_date\"])\n",
    "filename = f\"EPD_EnergyFutures_{control_area}_{end_op_date}.csv\"\n",
    "\n",
    "\n",
    "if response.status_code == 200:\n",
    "    with open(filename, \"wb\") as f:\n",
    "        f.write(response.content)\n",
    "    print(f\"File downloaded successfully and saved as '{filename}'\")\n",
    "else:\n",
    "    # status and response text\n",
    "    print(f\"Error {response.status_code}: {response.text}\")"
   ]
  },
  {
   "cell_type": "markdown",
   "id": "146d0649",
   "metadata": {},
   "source": [
    "JSON:"
   ]
  },
  {
   "cell_type": "code",
   "execution_count": null,
   "id": "67b505ae",
   "metadata": {},
   "outputs": [
    {
     "name": "stdout",
     "output_type": "stream",
     "text": [
      "File downloaded successfully and saved as 'EPD_EnergyFutures_ERCOT_2025-08-25.json'\n"
     ]
    }
   ],
   "source": [
    "import json\n",
    "\n",
    "endpoint = \"/datasets/download/energy-futures/json\"\n",
    "\n",
    "params = {\n",
    "    \"start_operating_date\": \"2025-08-25\",        # Required\n",
    "    \"end_operating_date\": \"2025-08-25\",          # Optional, for date range\n",
    "    \"control_area\": \"ERCOT\",                     # ERCOT, PJM, ISONE, etc.\n",
    "    \"block_types\": \"\",                           # Optional: e.g., 7x8,2x16,5x16, etc. e.g., \"7x8\",\"2x16\",\"5x16\" -- By Default ALL \n",
    "    \"start_date\": \"2025-08-01\",                  # Optional: filter start\n",
    "    \"end_date\": \"2030-09-01\"                     # Optional: filter end\n",
    "}\n",
    "\n",
    "response = requests.get(f\"{base_url}{endpoint}\", headers=headers, params=params)\n",
    "\n",
    "control_area = params[\"control_area\"]\n",
    "end_op_date = params.get(\"end_operating_date\", params[\"start_operating_date\"])\n",
    "filename = f\"EPD_EnergyFutures_{control_area}_{end_op_date}.json\"\n",
    "\n",
    "\n",
    "if response.status_code == 200:\n",
    "    data = response.json()\n",
    "    with open(filename, \"w\", encoding=\"utf-8\") as f:\n",
    "        json.dump(data, f, indent=2)\n",
    "    print(f\"File downloaded successfully and saved as '{filename}'\")\n",
    "else:\n",
    "    print(f\"Error {response.status_code}: {response.text}\")"
   ]
  },
  {
   "cell_type": "markdown",
   "id": "87e8ede7",
   "metadata": {},
   "source": []
  },
  {
   "cell_type": "markdown",
   "id": "f68e32eb",
   "metadata": {},
   "source": [
    "Utility Price:"
   ]
  },
  {
   "cell_type": "code",
   "execution_count": null,
   "id": "cee0255f",
   "metadata": {},
   "outputs": [
    {
     "name": "stdout",
     "output_type": "stream",
     "text": [
      "File downloaded successfully and saved as 'EPD_UtilityPrice_2025-08-15.xlsx'\n"
     ]
    }
   ],
   "source": [
    "endpoint = \"/datasets/download/utility-price\"\n",
    "\n",
    "params = {\n",
    "    \"start_operating_date\": \"2025-08-15\",        # Required in YYYY-MM-DD format\n",
    "    \"end_operating_date\": \"2025-08-15\",          # Optional, for date range\n",
    "}\n",
    "\n",
    "response = requests.get(f\"{base_url}{endpoint}\", headers=headers, params=params)\n",
    "\n",
    "end_op_date = params.get(\"end_operating_date\", params[\"start_operating_date\"])\n",
    "filename = f\"EPD_UtilityPrice_{end_op_date}.xlsx\"\n",
    "\n",
    "\n",
    "if response.status_code == 200:\n",
    "    with open(filename, \"wb\") as f:\n",
    "        f.write(response.content)\n",
    "    print(f\"File downloaded successfully and saved as '{filename}'\")\n",
    "else:\n",
    "    # If an error occurs, print status and response text\n",
    "    print(f\"Error {response.status_code}: {response.text}\")"
   ]
  },
  {
   "cell_type": "markdown",
   "id": "c75474a4",
   "metadata": {},
   "source": [
    "CSV:"
   ]
  },
  {
   "cell_type": "code",
   "execution_count": 17,
   "id": "78fe0cea",
   "metadata": {},
   "outputs": [
    {
     "name": "stdout",
     "output_type": "stream",
     "text": [
      "File downloaded successfully and saved as 'EPD_UtilityPrice_2025-08-15.zip'\n"
     ]
    }
   ],
   "source": [
    "endpoint = \"/datasets/download/utility-price/csv\"\n",
    "\n",
    "params = {\n",
    "    \"start_operating_date\": \"2025-08-15\",        # Required in YYYY-MM-DD format\n",
    "    #\"end_operating_date\": \"2025-08-15\",          # Optional, for date range\n",
    "}\n",
    "\n",
    "response = requests.get(f\"{base_url}{endpoint}\", headers=headers, params=params)\n",
    "\n",
    "end_op_date = params.get(\"end_operating_date\", params[\"start_operating_date\"])\n",
    "filename = f\"EPD_UtilityPrice_{end_op_date}.zip\"\n",
    "\n",
    "\n",
    "if response.status_code == 200:\n",
    "    with open(filename, \"wb\") as f:\n",
    "        f.write(response.content)\n",
    "    print(f\"File downloaded successfully and saved as '{filename}'\")\n",
    "else:\n",
    "    #status and response text\n",
    "    print(f\"Error {response.status_code}: {response.text}\")"
   ]
  },
  {
   "cell_type": "markdown",
   "id": "564033a0",
   "metadata": {},
   "source": [
    "JSON: -- Clarity\n"
   ]
  },
  {
   "cell_type": "code",
   "execution_count": null,
   "id": "3aa151de",
   "metadata": {},
   "outputs": [],
   "source": [
    "import json\n",
    "\n",
    "endpoint = \"/datasets/download/utility-price/json\"\n",
    "\n",
    "params = {\n",
    "    \"start_operating_date\": \"2025-08-15\",        # Required\n",
    "    \"end_operating_date\": \"2025-08-15\",          # Optional, for date range\n",
    "}\n",
    "\n",
    "response = requests.get(f\"{base_url}{endpoint}\", headers=headers, params=params)\n",
    "\n",
    "end_op_date = params.get(\"end_operating_date\", params[\"start_operating_date\"])\n",
    "filename = f\"EPD_UtilityPrice_{end_op_date}.json\"\n",
    "\n",
    "\n",
    "if response.status_code == 200:\n",
    "    data = response.json()\n",
    "    with open(filename, \"w\", encoding=\"utf-8\") as f:\n",
    "        json.dump(data, f, indent=2)\n",
    "    print(f\"File downloaded successfully and saved as '{filename}'\")\n",
    "else:\n",
    "    print(f\"Error {response.status_code}: {response.text}\")"
   ]
  },
  {
   "cell_type": "code",
   "execution_count": null,
   "id": "b679f2f1",
   "metadata": {},
   "outputs": [],
   "source": []
  },
  {
   "cell_type": "code",
   "execution_count": null,
   "id": "b3635275",
   "metadata": {},
   "outputs": [],
   "source": [
    "\n"
   ]
  }
 ],
 "metadata": {
  "kernelspec": {
   "display_name": "base",
   "language": "python",
   "name": "python3"
  },
  "language_info": {
   "codemirror_mode": {
    "name": "ipython",
    "version": 3
   },
   "file_extension": ".py",
   "mimetype": "text/x-python",
   "name": "python",
   "nbconvert_exporter": "python",
   "pygments_lexer": "ipython3",
   "version": "3.11.5"
  }
 },
 "nbformat": 4,
 "nbformat_minor": 5
}
